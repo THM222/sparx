{
 "cells": [
  {
   "cell_type": "code",
   "execution_count": null,
   "id": "94a1c9ea-de6f-4732-a70c-199ff2d2f9f9",
   "metadata": {},
   "outputs": [],
   "source": [
    "!python3 -m venv sparx_venv\n",
    "!pip install numpy\n",
    "!pip install pandas\n",
    "!pip install xlrd\n",
    "!pip install openpyxl\n",
    "!pip install matplotlib"
   ]
  },
  {
   "cell_type": "code",
   "execution_count": null,
   "id": "71bbfa69-b977-4649-b927-dff529c4b866",
   "metadata": {},
   "outputs": [],
   "source": [
    "import pandas as pd\n",
    "import matplotlib as mpl\n",
    "import matplotlib.pyplot as plt\n",
    "import numpy as np"
   ]
  },
  {
   "cell_type": "code",
   "execution_count": null,
   "id": "72dc0714-d993-4dd8-b9d3-8d39ff834384",
   "metadata": {},
   "outputs": [],
   "source": [
    "# constants\n",
    "SPARX_DATA_FILE = './data.xlsx'\n",
    "\n",
    "BY_STUDENT = 'By student'\n",
    "BY_CLASS = 'By class'\n",
    "BY_YEAR_GROUP = 'By year group'\n",
    "\n",
    "FIRST_NAME = 'First Name'\n",
    "SURNAME = 'Surname'\n",
    "MATHS_CLASS = 'Maths class'\n",
    "CLASS = 'Class'\n",
    "YEAR_GROUP = 'Year group'\n",
    "\n",
    "Y7 = \"Year 7\"\n",
    "Y8 = \"Year 8\"\n",
    "Y9 = \"Year 9\"\n",
    "Y10 = \"Year 10\"\n",
    "Y11 = \"Year 11\"\n",
    "\n",
    "C_OT = 'C (OT)'\n",
    "C_AT = 'C (AT)'\n",
    "XPB = 'XPB'\n",
    "TARGET='T'\n",
    "XP='XP'\n",
    "IL='IL (h:mm)'"
   ]
  },
  {
   "cell_type": "code",
   "execution_count": null,
   "id": "10b41fe1-3669-4ebb-a9f1-e581e688cf9f",
   "metadata": {},
   "outputs": [],
   "source": [
    "def adjust_column_names(df):\n",
    "    col_names = df.iloc[2:3].values.tolist()[0]\n",
    "    df.columns = col_names\n",
    "    return df[3:]"
   ]
  },
  {
   "cell_type": "code",
   "execution_count": null,
   "id": "30b1ee27-8a06-4dc1-b128-03d2eb001d8a",
   "metadata": {},
   "outputs": [],
   "source": [
    "# read sheet data in\n",
    "df_yg = pd.read_excel(SPARX_DATA_FILE, sheet_name=BY_YEAR_GROUP)\n",
    "df_class = pd.read_excel(SPARX_DATA_FILE, sheet_name=BY_CLASS)\n",
    "df_stud = pd.read_excel(SPARX_DATA_FILE, sheet_name=BY_STUDENT)\n",
    "\n",
    "df_yg = adjust_column_names(df_yg)\n",
    "df_class = adjust_column_names(df_class)\n",
    "df_stud = adjust_column_names(df_stud)"
   ]
  },
  {
   "cell_type": "code",
   "execution_count": null,
   "id": "c8a9f5b7-3b62-48aa-b9bc-63cfe21bedcf",
   "metadata": {},
   "outputs": [],
   "source": [
    "#df_yg.filter(like=C_OT)\n",
    "#df_yg[[YEAR_GROUP, C_OT]]"
   ]
  },
  {
   "cell_type": "code",
   "execution_count": null,
   "id": "43f71049-d28d-4054-ae8c-d2c967e19665",
   "metadata": {},
   "outputs": [],
   "source": [
    "#df_stud[[FIRST_NAME, SURNAME, C_OT, XP]]"
   ]
  },
  {
   "cell_type": "code",
   "execution_count": null,
   "id": "656b9396-3773-489b-9dad-b0ead52aa399",
   "metadata": {},
   "outputs": [],
   "source": [
    "#df_class[[MATHS_CLASS, YEAR_GROUP, C_OT]]"
   ]
  },
  {
   "cell_type": "code",
   "execution_count": null,
   "id": "4e83c61b-2929-43c6-ae76-edcee88d15ca",
   "metadata": {},
   "outputs": [],
   "source": [
    "mpl.style.available"
   ]
  },
  {
   "cell_type": "code",
   "execution_count": null,
   "id": "1607af48-5148-43b9-b3ec-e0444039240d",
   "metadata": {},
   "outputs": [],
   "source": [
    "y7 = df_class.loc[df_class[YEAR_GROUP] == Y7]\n",
    "y8 = df_class.loc[df_class[YEAR_GROUP] == Y8]\n",
    "y9 = df_class.loc[df_class[YEAR_GROUP] == Y9]\n",
    "y10 = df_class.loc[df_class[YEAR_GROUP] == Y10]\n",
    "y11 = df_class.loc[df_class[YEAR_GROUP] == Y11]\n",
    "\n",
    "YG_SORTER = {Y7: 0, Y8: 1, Y8: 2, Y10:3, Y11:4}\n",
    "sorted = df_yg.sort_values(by=[YEAR_GROUP], key=lambda x: x.map(YG_SORTER))\n",
    "\n",
    "rows=3\n",
    "cols=2\n",
    "\n",
    "plt.style.use('bmh')\n",
    "\n",
    "fig, axs = plt.subplots(rows, cols, figsize=(8, 10), layout='constrained')\n",
    "\n",
    "\n",
    "y7[[MATHS_CLASS, C_OT]].plot(ax=axs[0,0], x=MATHS_CLASS, kind='bar', title='Year 7 Completion', xlabel=CLASS)\n",
    "y8[[MATHS_CLASS, C_OT]].plot(ax=axs[0,1], x=MATHS_CLASS, kind='bar', title='Year 8 Completion', xlabel=CLASS)\n",
    "y9[[MATHS_CLASS, C_OT]].plot(ax=axs[1,0], x=MATHS_CLASS, kind='bar', title='Year 9 Completion', xlabel=CLASS)\n",
    "y10[[MATHS_CLASS, C_OT]].plot(ax=axs[1,1], x=MATHS_CLASS, kind='bar', title='Year 10 Completion', xlabel=CLASS)\n",
    "y11[[MATHS_CLASS, C_OT]].plot(ax=axs[2,0], x=MATHS_CLASS, kind='bar', title='Year 11 Completion', xlabel=CLASS)\n",
    "sorted[[YEAR_GROUP, C_OT]].plot(ax=axs[2,1], x=YEAR_GROUP, kind='bar', title='Completion by Year Group')\n",
    "\n",
    "for i in range(0, rows):\n",
    "    for j in range(0, cols):\n",
    "        axs[i,j].yaxis.set_major_formatter(mpl.ticker.PercentFormatter(1.0))\n",
    "        axs[i,j].set_ylim([0, 1])\n",
    "        axs[i,j].set_yticks(np.arange(0, 1., 0.1))\n",
    "        axs[i,j].grid(True, axis='y')\n",
    "\n",
    "plt.show()"
   ]
  },
  {
   "cell_type": "code",
   "execution_count": null,
   "id": "b608b4da-277e-4e99-8348-5caa8cbdac1e",
   "metadata": {},
   "outputs": [],
   "source": [
    "df_xp = df_stud[[FIRST_NAME, SURNAME, XP]]\n",
    "for i in range(2, len(df_xp.columns)):\n",
    "    df = df_xp.iloc[:,[0,1,i]]\n",
    "    df = df.sort_values(XP, ascending=False).head(10)\n",
    "    print(df.to_string(index=False))\n",
    "    print()"
   ]
  },
  {
   "cell_type": "code",
   "execution_count": null,
   "id": "7ed60276-acca-4554-a828-6dbfe0458cb9",
   "metadata": {},
   "outputs": [],
   "source": [
    "df_il = df_stud[[FIRST_NAME, SURNAME, IL]]\n",
    "for i in range(2, len(df_il.columns)):\n",
    "    df = df_il.iloc[:,[0,1,i]]\n",
    "    df = df.sort_values(IL, ascending=False).head(10)\n",
    "    print(df.to_string(index=False))\n",
    "    print()"
   ]
  },
  {
   "cell_type": "code",
   "execution_count": null,
   "id": "52116cfa-febb-4a3c-a0ca-5c21357a1b19",
   "metadata": {},
   "outputs": [],
   "source": []
  }
 ],
 "metadata": {
  "kernelspec": {
   "display_name": "Python 3 (ipykernel)",
   "language": "python",
   "name": "python3"
  },
  "language_info": {
   "codemirror_mode": {
    "name": "ipython",
    "version": 3
   },
   "file_extension": ".py",
   "mimetype": "text/x-python",
   "name": "python",
   "nbconvert_exporter": "python",
   "pygments_lexer": "ipython3",
   "version": "3.12.0"
  }
 },
 "nbformat": 4,
 "nbformat_minor": 5
}
